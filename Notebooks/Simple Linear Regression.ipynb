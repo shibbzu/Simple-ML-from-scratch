{
 "cells": [
  {
   "cell_type": "code",
   "execution_count": 1,
   "id": "compound-press",
   "metadata": {},
   "outputs": [],
   "source": [
    "import pandas as pd\n",
    "import numpy as np\n",
    "import matplotlib.pyplot as plt"
   ]
  },
  {
   "cell_type": "code",
   "execution_count": 2,
   "id": "dietary-supervisor",
   "metadata": {},
   "outputs": [],
   "source": [
    "df = pd.read_csv(r'C:\\Users\\shibbs\\Desktop\\Projects\\Simple Linear Regression\\Dataset\\score.csv')\n"
   ]
  },
  {
   "cell_type": "code",
   "execution_count": 3,
   "id": "fewer-notebook",
   "metadata": {},
   "outputs": [
    {
     "data": {
      "text/html": [
       "<div>\n",
       "<style scoped>\n",
       "    .dataframe tbody tr th:only-of-type {\n",
       "        vertical-align: middle;\n",
       "    }\n",
       "\n",
       "    .dataframe tbody tr th {\n",
       "        vertical-align: top;\n",
       "    }\n",
       "\n",
       "    .dataframe thead th {\n",
       "        text-align: right;\n",
       "    }\n",
       "</style>\n",
       "<table border=\"1\" class=\"dataframe\">\n",
       "  <thead>\n",
       "    <tr style=\"text-align: right;\">\n",
       "      <th></th>\n",
       "      <th>Unnamed: 0</th>\n",
       "      <th>Happiness Score</th>\n",
       "      <th>Economy (GDP per Capita)</th>\n",
       "    </tr>\n",
       "  </thead>\n",
       "  <tbody>\n",
       "    <tr>\n",
       "      <th>0</th>\n",
       "      <td>0</td>\n",
       "      <td>7587</td>\n",
       "      <td>1396</td>\n",
       "    </tr>\n",
       "    <tr>\n",
       "      <th>1</th>\n",
       "      <td>1</td>\n",
       "      <td>7561</td>\n",
       "      <td>1302</td>\n",
       "    </tr>\n",
       "    <tr>\n",
       "      <th>2</th>\n",
       "      <td>2</td>\n",
       "      <td>7527</td>\n",
       "      <td>1325</td>\n",
       "    </tr>\n",
       "    <tr>\n",
       "      <th>3</th>\n",
       "      <td>3</td>\n",
       "      <td>7522</td>\n",
       "      <td>1459</td>\n",
       "    </tr>\n",
       "    <tr>\n",
       "      <th>4</th>\n",
       "      <td>4</td>\n",
       "      <td>7427</td>\n",
       "      <td>1326</td>\n",
       "    </tr>\n",
       "  </tbody>\n",
       "</table>\n",
       "</div>"
      ],
      "text/plain": [
       "   Unnamed: 0  Happiness Score  Economy (GDP per Capita)\n",
       "0           0             7587                      1396\n",
       "1           1             7561                      1302\n",
       "2           2             7527                      1325\n",
       "3           3             7522                      1459\n",
       "4           4             7427                      1326"
      ]
     },
     "execution_count": 3,
     "metadata": {},
     "output_type": "execute_result"
    }
   ],
   "source": [
    "df.head()"
   ]
  },
  {
   "cell_type": "code",
   "execution_count": 4,
   "id": "documentary-pierce",
   "metadata": {},
   "outputs": [],
   "source": [
    "def initialize(df):\n",
    "\n",
    "    x = df.iloc[:,[2]] #independent variable\n",
    "    y = df.iloc[:,[1]] #dependent variable\n",
    "    x = np.array(x)  \n",
    "    y = np.array(y)  \n",
    "    n = len(x)\n",
    "    \n",
    "    #y1 = m*(x)+c  \n",
    "    \n",
    "    #L = np.mean((y1-y)**2)\n",
    "    \n",
    "    return x,y"
   ]
  },
  {
   "cell_type": "code",
   "execution_count": 5,
   "id": "likely-morocco",
   "metadata": {},
   "outputs": [],
   "source": [
    "def train(itr,x,y,m,c,lr):\n",
    "    \n",
    "    for i in range(itr):\n",
    "        \n",
    "        y1 = m*x + c #best fit line\n",
    "        \n",
    "        dm = np.mean((2*(y1-y)*x)/1000) #gradient of slope\n",
    "        dc = np.mean((2*(y1-y))) #gradient of intercept\n",
    "        \n",
    "        m = m - lr*dm #update slope\n",
    "        c = c - lr*dc #update intercept\n",
    "        \n",
    "    L = np.mean((y1-y)**2) # final loss function\n",
    "    print(\"Loss: \", L)\n",
    "    \n",
    "    plt.plot(x,y1,c='r')\n",
    "    plt.plot(x,y,\"ob\")\n",
    "    plt.legend(['final prediction','original data'])\n",
    "    \n",
    "    return m,c,y1"
   ]
  },
  {
   "cell_type": "code",
   "execution_count": 6,
   "id": "honey-hormone",
   "metadata": {},
   "outputs": [],
   "source": [
    "def pred(m,c,x1):\n",
    "    \n",
    "    y_pred = m*x1 + c\n",
    "    print(y_pred)"
   ]
  },
  {
   "cell_type": "code",
   "execution_count": 7,
   "id": "norwegian-warning",
   "metadata": {},
   "outputs": [],
   "source": [
    "x,y=initialize(df)"
   ]
  },
  {
   "cell_type": "code",
   "execution_count": 8,
   "id": "bigger-prophet",
   "metadata": {},
   "outputs": [
    {
     "name": "stdout",
     "output_type": "stream",
     "text": [
      "Loss:  509559.3004450869\n"
     ]
    },
    {
     "data": {
      "image/png": "[encoded data removed]",
      "text/plain": [
       "<Figure size 432x288 with 1 Axes>"
      ]
     },
     "metadata": {
      "needs_background": "light"
     },
     "output_type": "display_data"
    }
   ],
   "source": [
    "m,c,y1=train(itr=10000,x=x,y=y,m=0,c=0,lr=0.001)"
   ]
  },
  {
   "cell_type": "code",
   "execution_count": 9,
   "id": "figured-prize",
   "metadata": {},
   "outputs": [
    {
     "name": "stdout",
     "output_type": "stream",
     "text": [
      "6210.316915981\n"
     ]
    }
   ],
   "source": [
    "x1=1215\n",
    "pred(m,c,x1)"
   ]
  },
  {
   "cell_type": "code",
   "execution_count": null,
   "id": "understanding-horizon",
   "metadata": {},
   "outputs": [],
   "source": []
  }
 ],
 "metadata": {
  "kernelspec": {
   "display_name": "Python 3",
   "language": "python",
   "name": "python3"
  },
  "language_info": {
   "codemirror_mode": {
    "name": "ipython",
    "version": 3
   },
   "file_extension": ".py",
   "mimetype": "text/x-python",
   "name": "python",
   "nbconvert_exporter": "python",
   "pygments_lexer": "ipython3",
   "version": "3.8.5"
  }
 },
 "nbformat": 4,
 "nbformat_minor": 5
}
